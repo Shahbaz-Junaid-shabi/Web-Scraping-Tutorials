{
 "cells": [
  {
   "cell_type": "markdown",
   "id": "34ffcb79-d27b-4d7a-93d3-b37bee1a5598",
   "metadata": {},
   "source": [
    "# flipkart Project "
   ]
  },
  {
   "cell_type": "code",
   "execution_count": 37,
   "id": "1208b9b1-afa0-460f-8864-1b22a0961db4",
   "metadata": {},
   "outputs": [
    {
     "name": "stdout",
     "output_type": "stream",
     "text": [
      "<Response [200]>\n"
     ]
    }
   ],
   "source": [
    "import pandas as pd \n",
    "import requests\n",
    "from bs4 import BeautifulSoup\n",
    "\n",
    "# url \n",
    "URL = 'https://www.flipkart.com/search?q=mobile%20under%2050000&otracker=search&otracker1=search&marketplace=FLIPKART&as-show=on&as=off'\n",
    "# requests is library is used for http requests \n",
    "web_page = requests.get(URL)\n",
    "# web_page\n",
    "print(web_page)\n",
    "# using the beautifulsoup the web page text parsing into lxml format \n",
    "soup = BeautifulSoup(web_page.text,'lxml')\n",
    "# soup"
   ]
  },
  {
   "cell_type": "code",
   "execution_count": 38,
   "id": "7ec9e8a0-3a8f-4f2f-b4e2-4fbaf1b82a1b",
   "metadata": {},
   "outputs": [
    {
     "name": "stdout",
     "output_type": "stream",
     "text": [
      "/search?q=mobile+under+50000&otracker=search&otracker1=search&marketplace=FLIPKART&as-show=on&as=off&page=2\n"
     ]
    }
   ],
   "source": [
    "next_page = soup.find('a',class_=\"_9QVEpD\").get(\"href\")\n",
    "print(next_page)"
   ]
  },
  {
   "cell_type": "code",
   "execution_count": 39,
   "id": "6178ad85-297f-4621-a050-271f38164d06",
   "metadata": {},
   "outputs": [
    {
     "name": "stdout",
     "output_type": "stream",
     "text": [
      "https://www.flipkart.com/search?q=mobile+under+50000&otracker=search&otracker1=search&marketplace=FLIPKART&as-show=on&as=off&page=2\n"
     ]
    }
   ],
   "source": [
    "complete_page = 'https://www.flipkart.com' + next_page\n",
    "print(complete_page)"
   ]
  },
  {
   "cell_type": "code",
   "execution_count": 40,
   "id": "b66142bb-c2b2-40bc-bd70-f27647fe8e67",
   "metadata": {},
   "outputs": [],
   "source": [
    "while(False):\n",
    "   next_page = soup.find('a',class_=\"_9QVEpD\").get(\"href\")\n",
    "   complete_page = 'https://www.flipkart.com' + next_page\n",
    "   print(complete_page)\n",
    "   URL = complete_page\n",
    "   web_page = requests.get(URL)\n",
    "   soup = BeautifulSoup(web_page.text,'lxml')\n"
   ]
  },
  {
   "cell_type": "code",
   "execution_count": 41,
   "id": "4da29f9a-61dd-4d75-8ee9-b10946709862",
   "metadata": {},
   "outputs": [
    {
     "name": "stdout",
     "output_type": "stream",
     "text": [
      "https://www.flipkart.com/search?q=mobile+under+50000&otracker=search&otracker1=search&marketplace=FLIPKART&as-show=on&as=off&page=1\n",
      "https://www.flipkart.com/search?q=mobile+under+50000&otracker=search&otracker1=search&marketplace=FLIPKART&as-show=on&as=off&page=2\n",
      "https://www.flipkart.com/search?q=mobile+under+50000&otracker=search&otracker1=search&marketplace=FLIPKART&as-show=on&as=off&page=3\n",
      "https://www.flipkart.com/search?q=mobile+under+50000&otracker=search&otracker1=search&marketplace=FLIPKART&as-show=on&as=off&page=4\n",
      "https://www.flipkart.com/search?q=mobile+under+50000&otracker=search&otracker1=search&marketplace=FLIPKART&as-show=on&as=off&page=5\n",
      "https://www.flipkart.com/search?q=mobile+under+50000&otracker=search&otracker1=search&marketplace=FLIPKART&as-show=on&as=off&page=6\n",
      "https://www.flipkart.com/search?q=mobile+under+50000&otracker=search&otracker1=search&marketplace=FLIPKART&as-show=on&as=off&page=7\n",
      "https://www.flipkart.com/search?q=mobile+under+50000&otracker=search&otracker1=search&marketplace=FLIPKART&as-show=on&as=off&page=8\n",
      "https://www.flipkart.com/search?q=mobile+under+50000&otracker=search&otracker1=search&marketplace=FLIPKART&as-show=on&as=off&page=9\n",
      "https://www.flipkart.com/search?q=mobile+under+50000&otracker=search&otracker1=search&marketplace=FLIPKART&as-show=on&as=off&page=10\n"
     ]
    }
   ],
   "source": [
    "for i in range(2,12):\n",
    "   # url \n",
    " URL = 'https://www.flipkart.com/search?q=mobile+under+50000&otracker=search&otracker1=search&marketplace=FLIPKART&as-show=on&as=off&page=' + str(i)\n",
    "# requests is library is used for http requests \n",
    " web_page = requests.get(URL)\n",
    "# web_page\n",
    " # print(web_page)\n",
    "# using the beautifulsoup the web page text parsing into lxml format \n",
    " soup = BeautifulSoup(web_page.text,'lxml')\n",
    " next_page = soup.find('a',class_=\"_9QVEpD\").get(\"href\")\n",
    " complete_page = 'https://www.flipkart.com' + next_page\n",
    " print(complete_page)"
   ]
  },
  {
   "cell_type": "markdown",
   "id": "90b609c1-6c7c-433f-8906-0ec74474e033",
   "metadata": {},
   "source": [
    "\n",
    "# Extracting data on first page "
   ]
  },
  {
   "cell_type": "code",
   "execution_count": 83,
   "id": "c2d56b92-0297-4b80-8428-f0cbc13c87c1",
   "metadata": {},
   "outputs": [],
   "source": [
    "Product_Name= []\n",
    "Prices = []\n",
    "Description = []\n",
    "Reviews = []\n",
    "URL = 'https://www.flipkart.com/search?q=mobile+under+50000&otracker=search&otracker1=search&marketplace=FLIPKART&as-show=on&as=off&page=2'\n",
    "web_page = requests.get(URL)\n",
    "soup = BeautifulSoup(web_page.text,'lxml')\n"
   ]
  },
  {
   "cell_type": "code",
   "execution_count": 84,
   "id": "453a8026-888a-4875-9cce-3fe81f5dba7b",
   "metadata": {},
   "outputs": [
    {
     "name": "stdout",
     "output_type": "stream",
     "text": [
      "[<div class=\"KzDlHZ\">SAMSUNG Galaxy S23 5G (Phantom Black, 256 GB)</div>, <div class=\"KzDlHZ\">Google Pixel 8a (Obsidian, 128 GB)</div>, <div class=\"KzDlHZ\">Nothing Phone (3a) (Blue, 128 GB)</div>, <div class=\"KzDlHZ\">vivo V30 Pro 5G (Classic Black, 512 GB)</div>, <div class=\"KzDlHZ\">Google Pixel 8a (Porcelain, 128 GB)</div>, <div class=\"KzDlHZ\">SAMSUNG Galaxy S24 FE 5G (Graphite, 256 GB)</div>, <div class=\"KzDlHZ\">OnePlus 12R (Cool Blue, 256 GB)</div>, <div class=\"KzDlHZ\">SAMSUNG Galaxy A55 5G (Awesome Navy, 256 GB)</div>, <div class=\"KzDlHZ\">Google Pixel 8a (Obsidian, 256 GB)</div>, <div class=\"KzDlHZ\">vivo V50 5G (Starry Night, 512 GB)</div>, <div class=\"KzDlHZ\">SAMSUNG Galaxy A55 5G (Awesome Iceblue, 256 GB)</div>, <div class=\"KzDlHZ\">Google Pixel 7 (Snow, 128 GB)</div>, <div class=\"KzDlHZ\">SAMSUNG Galaxy A54 5G (Awesome Lime, 256 GB)</div>, <div class=\"KzDlHZ\">OnePlus 11 5G (Titan Black, 256 GB)</div>, <div class=\"KzDlHZ\">OPPO Reno10 Pro 5G (Glossy Purple, 256 GB)</div>, <div class=\"KzDlHZ\">Nothing Phone (3a) Pro (Black, 256 GB)</div>, <div class=\"KzDlHZ\">OPPO Reno 12 Pro 5G (Sunset Gold, 512 GB)</div>, <div class=\"KzDlHZ\">vivo V30 Pro 5G (Classic Black, 256 GB)</div>, <div class=\"KzDlHZ\">OnePlus 10 Pro 5G (Volcanic Black, 128 GB)</div>, <div class=\"KzDlHZ\">SAMSUNG Galaxy A55 5G (Awesome Iceblue, 256 GB)</div>, <div class=\"KzDlHZ\">SAMSUNG Galaxy A55 5G (Awesome Iceblue, 128 GB)</div>, <div class=\"KzDlHZ\">OPPO Reno 12 Pro 5G (Manish Malhotra Limited Edition, 256 GB)</div>, <div class=\"KzDlHZ\">OnePlus 11 5G (Eternal Green, 128 GB)</div>, <div class=\"KzDlHZ\">Honor 200 Pro 5G (Ocean Cyan, 512 GB)</div>]\n",
      "['SAMSUNG Galaxy S23 5G (Phantom Black, 256 GB)', 'Google Pixel 8a (Obsidian, 128 GB)', 'Nothing Phone (3a) (Blue, 128 GB)', 'vivo V30 Pro 5G (Classic Black, 512 GB)', 'Google Pixel 8a (Porcelain, 128 GB)', 'SAMSUNG Galaxy S24 FE 5G (Graphite, 256 GB)', 'OnePlus 12R (Cool Blue, 256 GB)', 'SAMSUNG Galaxy A55 5G (Awesome Navy, 256 GB)', 'Google Pixel 8a (Obsidian, 256 GB)', 'vivo V50 5G (Starry Night, 512 GB)', 'SAMSUNG Galaxy A55 5G (Awesome Iceblue, 256 GB)', 'Google Pixel 7 (Snow, 128 GB)', 'SAMSUNG Galaxy A54 5G (Awesome Lime, 256 GB)', 'OnePlus 11 5G (Titan Black, 256 GB)', 'OPPO Reno10 Pro 5G (Glossy Purple, 256 GB)', 'Nothing Phone (3a) Pro (Black, 256 GB)', 'OPPO Reno 12 Pro 5G (Sunset Gold, 512 GB)', 'vivo V30 Pro 5G (Classic Black, 256 GB)', 'OnePlus 10 Pro 5G (Volcanic Black, 128 GB)', 'SAMSUNG Galaxy A55 5G (Awesome Iceblue, 256 GB)', 'SAMSUNG Galaxy A55 5G (Awesome Iceblue, 128 GB)', 'OPPO Reno 12 Pro 5G (Manish Malhotra Limited Edition, 256 GB)', 'OnePlus 11 5G (Eternal Green, 128 GB)', 'Honor 200 Pro 5G (Ocean Cyan, 512 GB)']\n",
      "24\n"
     ]
    }
   ],
   "source": [
    "\n",
    "names = soup.find_all('div',class_=\"KzDlHZ\")\n",
    "print(names)\n",
    "\n",
    "for i in names:\n",
    "    name = i.text\n",
    "    Product_Name.append(name)\n",
    "\n",
    "print(Product_Name)\n",
    "print(len(Product_Name))"
   ]
  },
  {
   "cell_type": "code",
   "execution_count": 85,
   "id": "3c28c5a6-ab81-4f52-81ec-c89b66a1a086",
   "metadata": {},
   "outputs": [
    {
     "name": "stdout",
     "output_type": "stream",
     "text": [
      "[]\n",
      "['₹49,999', '₹37,999', '₹24,999', '₹39,999', '₹37,999', '₹46,748', '₹38,927', '₹35,499', '₹44,999', '₹40,999', '₹36,999', '₹30,999', '₹37,499', '₹49,990', '₹31,500', '₹33,999', '₹40,999', '₹34,999', '₹45,999', '₹43,999', '₹39,990', '₹36,999', '₹35,797', '₹39,999']\n",
      "24\n"
     ]
    }
   ],
   "source": [
    "\n",
    "Price = soup.find_all('div',class_=\"Nx9bqj _4b5DiR\")\n",
    "print(Prices)\n",
    "\n",
    "for i in Price:\n",
    "    price = i.text\n",
    "    Prices.append(price)\n",
    "\n",
    "print(Prices)\n",
    "print(len(Prices))"
   ]
  },
  {
   "cell_type": "code",
   "execution_count": 86,
   "id": "d3ce71d1-bb07-436e-be9b-a96af3081f53",
   "metadata": {},
   "outputs": [
    {
     "name": "stdout",
     "output_type": "stream",
     "text": [
      "[]\n",
      "[]\n",
      "0\n"
     ]
    }
   ],
   "source": [
    "desc = soup.find_all('ul',class_=\"DOjaWF YJG4Cf col-12-12\")\n",
    "print(desc)\n",
    "\n",
    "for i in desc:\n",
    "    des = i.text\n",
    "    Description.append(des)\n",
    "\n",
    "print(Description)\n",
    "print(len(Description))"
   ]
  },
  {
   "cell_type": "code",
   "execution_count": 88,
   "id": "0028c7b8-e49d-4131-bf39-266619094308",
   "metadata": {},
   "outputs": [
    {
     "name": "stdout",
     "output_type": "stream",
     "text": [
      "<div class=\"XQDdHH\">4.6<img class=\"Rza2QY\" src=\"data:image/svg+xml;base64,PHN2ZyB4bWxucz0iaHR0cDovL3d3dy53My5vcmcvMjAwMC9zdmciIHdpZHRoPSIxMyIgaGVpZ2h0PSIxMiI+PHBhdGggZmlsbD0iI0ZGRiIgZD0iTTYuNSA5LjQzOWwtMy42NzQgMi4yMy45NC00LjI2LTMuMjEtMi44ODMgNC4yNTQtLjQwNEw2LjUuMTEybDEuNjkgNC4wMSA0LjI1NC40MDQtMy4yMSAyLjg4Mi45NCA0LjI2eiIvPjwvc3ZnPg==\"/></div>\n",
      "[]\n",
      "0\n"
     ]
    }
   ],
   "source": [
    "rev = soup.find('div',class_=\"XQDdHH\")\n",
    "print(rev)\n",
    "\n",
    "for i in desc:\n",
    "    des = i.text\n",
    "    Reviews.append(rev)\n",
    "\n",
    "print(Reviews)\n",
    "print(len(Reviews))"
   ]
  },
  {
   "cell_type": "code",
   "execution_count": 90,
   "id": "23256671-cd7c-4ad2-9a82-42020ad6c7b8",
   "metadata": {},
   "outputs": [
    {
     "ename": "ValueError",
     "evalue": "All arrays must be of the same length",
     "output_type": "error",
     "traceback": [
      "\u001b[1;31m---------------------------------------------------------------------------\u001b[0m",
      "\u001b[1;31mValueError\u001b[0m                                Traceback (most recent call last)",
      "Cell \u001b[1;32mIn[90], line 2\u001b[0m\n\u001b[0;32m      1\u001b[0m \u001b[38;5;66;03m# Creating Dataframe \u001b[39;00m\n\u001b[1;32m----> 2\u001b[0m df \u001b[38;5;241m=\u001b[39m \u001b[43mpd\u001b[49m\u001b[38;5;241;43m.\u001b[39;49m\u001b[43mDataFrame\u001b[49m\u001b[43m(\u001b[49m\u001b[43m{\u001b[49m\u001b[38;5;124;43m\"\u001b[39;49m\u001b[38;5;124;43mProduct Name \u001b[39;49m\u001b[38;5;124;43m\"\u001b[39;49m\u001b[43m:\u001b[49m\u001b[43m \u001b[49m\u001b[43mProduct_Name\u001b[49m\u001b[43m,\u001b[49m\u001b[38;5;124;43m\"\u001b[39;49m\u001b[38;5;124;43mPrices\u001b[39;49m\u001b[38;5;124;43m\"\u001b[39;49m\u001b[43m:\u001b[49m\u001b[43mPrices\u001b[49m\u001b[43m,\u001b[49m\u001b[38;5;124;43m\"\u001b[39;49m\u001b[38;5;124;43mDescription\u001b[39;49m\u001b[38;5;124;43m\"\u001b[39;49m\u001b[43m:\u001b[49m\u001b[43mDescription\u001b[49m\u001b[43m}\u001b[49m\u001b[43m)\u001b[49m\n\u001b[0;32m      3\u001b[0m \u001b[38;5;28mprint\u001b[39m(df)\n",
      "File \u001b[1;32m~\\Downloads\\Compressed\\python\\Lib\\site-packages\\pandas\\core\\frame.py:767\u001b[0m, in \u001b[0;36mDataFrame.__init__\u001b[1;34m(self, data, index, columns, dtype, copy)\u001b[0m\n\u001b[0;32m    761\u001b[0m     mgr \u001b[38;5;241m=\u001b[39m \u001b[38;5;28mself\u001b[39m\u001b[38;5;241m.\u001b[39m_init_mgr(\n\u001b[0;32m    762\u001b[0m         data, axes\u001b[38;5;241m=\u001b[39m{\u001b[38;5;124m\"\u001b[39m\u001b[38;5;124mindex\u001b[39m\u001b[38;5;124m\"\u001b[39m: index, \u001b[38;5;124m\"\u001b[39m\u001b[38;5;124mcolumns\u001b[39m\u001b[38;5;124m\"\u001b[39m: columns}, dtype\u001b[38;5;241m=\u001b[39mdtype, copy\u001b[38;5;241m=\u001b[39mcopy\n\u001b[0;32m    763\u001b[0m     )\n\u001b[0;32m    765\u001b[0m \u001b[38;5;28;01melif\u001b[39;00m \u001b[38;5;28misinstance\u001b[39m(data, \u001b[38;5;28mdict\u001b[39m):\n\u001b[0;32m    766\u001b[0m     \u001b[38;5;66;03m# GH#38939 de facto copy defaults to False only in non-dict cases\u001b[39;00m\n\u001b[1;32m--> 767\u001b[0m     mgr \u001b[38;5;241m=\u001b[39m \u001b[43mdict_to_mgr\u001b[49m\u001b[43m(\u001b[49m\u001b[43mdata\u001b[49m\u001b[43m,\u001b[49m\u001b[43m \u001b[49m\u001b[43mindex\u001b[49m\u001b[43m,\u001b[49m\u001b[43m \u001b[49m\u001b[43mcolumns\u001b[49m\u001b[43m,\u001b[49m\u001b[43m \u001b[49m\u001b[43mdtype\u001b[49m\u001b[38;5;241;43m=\u001b[39;49m\u001b[43mdtype\u001b[49m\u001b[43m,\u001b[49m\u001b[43m \u001b[49m\u001b[43mcopy\u001b[49m\u001b[38;5;241;43m=\u001b[39;49m\u001b[43mcopy\u001b[49m\u001b[43m,\u001b[49m\u001b[43m \u001b[49m\u001b[43mtyp\u001b[49m\u001b[38;5;241;43m=\u001b[39;49m\u001b[43mmanager\u001b[49m\u001b[43m)\u001b[49m\n\u001b[0;32m    768\u001b[0m \u001b[38;5;28;01melif\u001b[39;00m \u001b[38;5;28misinstance\u001b[39m(data, ma\u001b[38;5;241m.\u001b[39mMaskedArray):\n\u001b[0;32m    769\u001b[0m     \u001b[38;5;28;01mfrom\u001b[39;00m \u001b[38;5;21;01mnumpy\u001b[39;00m\u001b[38;5;21;01m.\u001b[39;00m\u001b[38;5;21;01mma\u001b[39;00m \u001b[38;5;28;01mimport\u001b[39;00m mrecords\n",
      "File \u001b[1;32m~\\Downloads\\Compressed\\python\\Lib\\site-packages\\pandas\\core\\internals\\construction.py:503\u001b[0m, in \u001b[0;36mdict_to_mgr\u001b[1;34m(data, index, columns, dtype, typ, copy)\u001b[0m\n\u001b[0;32m    499\u001b[0m     \u001b[38;5;28;01melse\u001b[39;00m:\n\u001b[0;32m    500\u001b[0m         \u001b[38;5;66;03m# dtype check to exclude e.g. range objects, scalars\u001b[39;00m\n\u001b[0;32m    501\u001b[0m         arrays \u001b[38;5;241m=\u001b[39m [x\u001b[38;5;241m.\u001b[39mcopy() \u001b[38;5;28;01mif\u001b[39;00m \u001b[38;5;28mhasattr\u001b[39m(x, \u001b[38;5;124m\"\u001b[39m\u001b[38;5;124mdtype\u001b[39m\u001b[38;5;124m\"\u001b[39m) \u001b[38;5;28;01melse\u001b[39;00m x \u001b[38;5;28;01mfor\u001b[39;00m x \u001b[38;5;129;01min\u001b[39;00m arrays]\n\u001b[1;32m--> 503\u001b[0m \u001b[38;5;28;01mreturn\u001b[39;00m \u001b[43marrays_to_mgr\u001b[49m\u001b[43m(\u001b[49m\u001b[43marrays\u001b[49m\u001b[43m,\u001b[49m\u001b[43m \u001b[49m\u001b[43mcolumns\u001b[49m\u001b[43m,\u001b[49m\u001b[43m \u001b[49m\u001b[43mindex\u001b[49m\u001b[43m,\u001b[49m\u001b[43m \u001b[49m\u001b[43mdtype\u001b[49m\u001b[38;5;241;43m=\u001b[39;49m\u001b[43mdtype\u001b[49m\u001b[43m,\u001b[49m\u001b[43m \u001b[49m\u001b[43mtyp\u001b[49m\u001b[38;5;241;43m=\u001b[39;49m\u001b[43mtyp\u001b[49m\u001b[43m,\u001b[49m\u001b[43m \u001b[49m\u001b[43mconsolidate\u001b[49m\u001b[38;5;241;43m=\u001b[39;49m\u001b[43mcopy\u001b[49m\u001b[43m)\u001b[49m\n",
      "File \u001b[1;32m~\\Downloads\\Compressed\\python\\Lib\\site-packages\\pandas\\core\\internals\\construction.py:114\u001b[0m, in \u001b[0;36marrays_to_mgr\u001b[1;34m(arrays, columns, index, dtype, verify_integrity, typ, consolidate)\u001b[0m\n\u001b[0;32m    111\u001b[0m \u001b[38;5;28;01mif\u001b[39;00m verify_integrity:\n\u001b[0;32m    112\u001b[0m     \u001b[38;5;66;03m# figure out the index, if necessary\u001b[39;00m\n\u001b[0;32m    113\u001b[0m     \u001b[38;5;28;01mif\u001b[39;00m index \u001b[38;5;129;01mis\u001b[39;00m \u001b[38;5;28;01mNone\u001b[39;00m:\n\u001b[1;32m--> 114\u001b[0m         index \u001b[38;5;241m=\u001b[39m \u001b[43m_extract_index\u001b[49m\u001b[43m(\u001b[49m\u001b[43marrays\u001b[49m\u001b[43m)\u001b[49m\n\u001b[0;32m    115\u001b[0m     \u001b[38;5;28;01melse\u001b[39;00m:\n\u001b[0;32m    116\u001b[0m         index \u001b[38;5;241m=\u001b[39m ensure_index(index)\n",
      "File \u001b[1;32m~\\Downloads\\Compressed\\python\\Lib\\site-packages\\pandas\\core\\internals\\construction.py:677\u001b[0m, in \u001b[0;36m_extract_index\u001b[1;34m(data)\u001b[0m\n\u001b[0;32m    675\u001b[0m lengths \u001b[38;5;241m=\u001b[39m \u001b[38;5;28mlist\u001b[39m(\u001b[38;5;28mset\u001b[39m(raw_lengths))\n\u001b[0;32m    676\u001b[0m \u001b[38;5;28;01mif\u001b[39;00m \u001b[38;5;28mlen\u001b[39m(lengths) \u001b[38;5;241m>\u001b[39m \u001b[38;5;241m1\u001b[39m:\n\u001b[1;32m--> 677\u001b[0m     \u001b[38;5;28;01mraise\u001b[39;00m \u001b[38;5;167;01mValueError\u001b[39;00m(\u001b[38;5;124m\"\u001b[39m\u001b[38;5;124mAll arrays must be of the same length\u001b[39m\u001b[38;5;124m\"\u001b[39m)\n\u001b[0;32m    679\u001b[0m \u001b[38;5;28;01mif\u001b[39;00m have_dicts:\n\u001b[0;32m    680\u001b[0m     \u001b[38;5;28;01mraise\u001b[39;00m \u001b[38;5;167;01mValueError\u001b[39;00m(\n\u001b[0;32m    681\u001b[0m         \u001b[38;5;124m\"\u001b[39m\u001b[38;5;124mMixing dicts with non-Series may lead to ambiguous ordering.\u001b[39m\u001b[38;5;124m\"\u001b[39m\n\u001b[0;32m    682\u001b[0m     )\n",
      "\u001b[1;31mValueError\u001b[0m: All arrays must be of the same length"
     ]
    }
   ],
   "source": [
    "# Creating Dataframe \n",
    "df = pd.DataFrame({\"Product Name \": Product_Name,\"Prices\":Prices,\"Description\":Description})\n",
    "print(df)"
   ]
  },
  {
   "cell_type": "code",
   "execution_count": 78,
   "id": "ae958880-80f2-47b9-9ad9-059a8d1daec8",
   "metadata": {},
   "outputs": [],
   "source": [
    "# print(Product_Name)"
   ]
  },
  {
   "cell_type": "markdown",
   "id": "1712f8ba-b819-4bbb-b220-d3d4474b908e",
   "metadata": {},
   "source": [
    "# Prittify() function for structure format"
   ]
  },
  {
   "cell_type": "code",
   "execution_count": null,
   "id": "7505d0ee-715b-47b0-b19d-b7882a64ac7a",
   "metadata": {},
   "outputs": [],
   "source": []
  },
  {
   "cell_type": "code",
   "execution_count": null,
   "id": "94d285fb-ae4d-4477-920c-3c73e9c3b8aa",
   "metadata": {},
   "outputs": [],
   "source": [
    "print(soup.)"
   ]
  }
 ],
 "metadata": {
  "kernelspec": {
   "display_name": "Python 3 (ipykernel)",
   "language": "python",
   "name": "python3"
  },
  "language_info": {
   "codemirror_mode": {
    "name": "ipython",
    "version": 3
   },
   "file_extension": ".py",
   "mimetype": "text/x-python",
   "name": "python",
   "nbconvert_exporter": "python",
   "pygments_lexer": "ipython3",
   "version": "3.12.0"
  },
  "widgets": {
   "application/vnd.jupyter.widget-state+json": {
    "state": {},
    "version_major": 2,
    "version_minor": 0
   }
  }
 },
 "nbformat": 4,
 "nbformat_minor": 5
}
